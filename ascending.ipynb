{
 "cells": [
  {
   "cell_type": "code",
   "execution_count": null,
   "metadata": {},
   "outputs": [],
   "source": [
    "def ascending_order(list):\n",
    "    my_list = []\n",
    "    for num in list:  \n",
    "        if len(my_list) == 0 or num >= my_list[-1]:\n",
    "            my_list.append(num)\n",
    "        else:\n",
    "            for m in range(len(my_list)):\n",
    "                if num < my_list[m]:\n",
    "                    my_list.insert(m, num)\n",
    "                    break\n",
    "    return my_list\n",
    "result= [28, 7, 26, 16, 11, 8,27, 30,31,] \n",
    "my_list = ascending_order(result)\n",
    "print(\"The output list:\",my_list)"
   ]
  }
 ],
 "metadata": {
  "kernelspec": {
   "display_name": "Python 3",
   "language": "python",
   "name": "python3"
  },
  "language_info": {
   "codemirror_mode": {
    "name": "ipython",
    "version": 3
   },
   "file_extension": ".py",
   "mimetype": "text/x-python",
   "name": "python",
   "nbconvert_exporter": "python",
   "pygments_lexer": "ipython3",
   "version": "3.10.11"
  }
 },
 "nbformat": 4,
 "nbformat_minor": 2
}
